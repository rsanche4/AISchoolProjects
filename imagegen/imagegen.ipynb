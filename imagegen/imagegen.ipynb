{
 "cells": [
  {
   "cell_type": "code",
   "execution_count": null,
   "id": "4d29e022-e22a-4c8b-860b-9d530144a2b5",
   "metadata": {},
   "outputs": [],
   "source": [
    "# The most obvious thing I think is to simply look at a bunch of images and then we want to feed it into something else like if i could do a neural gen, sure that could work. But lso i wonder if we could maybe, \n",
    "# you would have to somehow convert words to pictures\n",
    "\n"
   ]
  }
 ],
 "metadata": {
  "kernelspec": {
   "display_name": "Python 3 (ipykernel)",
   "language": "python",
   "name": "python3"
  },
  "language_info": {
   "codemirror_mode": {
    "name": "ipython",
    "version": 3
   },
   "file_extension": ".py",
   "mimetype": "text/x-python",
   "name": "python",
   "nbconvert_exporter": "python",
   "pygments_lexer": "ipython3",
   "version": "3.12.4"
  }
 },
 "nbformat": 4,
 "nbformat_minor": 5
}
