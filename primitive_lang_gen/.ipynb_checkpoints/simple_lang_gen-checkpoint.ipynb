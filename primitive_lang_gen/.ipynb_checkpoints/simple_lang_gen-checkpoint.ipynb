{
 "cells": [
  {
   "cell_type": "code",
   "execution_count": 1,
   "id": "821183b8-daeb-4d06-bda6-4540e0aa034f",
   "metadata": {},
   "outputs": [],
   "source": [
    "# So I am thinking we take what we did before, where we applied the neural network we did that simply does multiple stuff, and we do it simply, but I am thinking what if we take that, and instead we actually apply to something like language.\n",
    "# So for example, we use the model, and we train on a bunch of characters to basically predict the next. \n",
    "# I guess the idea is we take the inputs, which are just characters, we make them into 30D vector, 26 of them is just for the letter\n",
    "# So for example\n",
    "# A is [1, 0, 0, 0, etc 26 times] + [0, 0, 1, etc..] and we concatinate it so its [1, 0, 0... 26 and then 0, 0, 1, etc.. for the position in the sentence of where it is] (this is depending on the sliding window say we have a character window for\n",
    "# our model of 250 characters)\n",
    "# Ok, then we simply put this into a huge input thing vectorized, and we concatinate with all the other letters. And now we train a model on this thing. And it will be having 26 outputs. And each is the letter it should output.\n",
    "# Ok. Cool. So what next? Well, now this should be it. We train on the entire text and thats it. This is a baby kind of thing as an intro to language models. I know these are different but whatever sounds cool!\n",
    "\n",
    "# So what do u think of this?"
   ]
  },
  {
   "cell_type": "code",
   "execution_count": 2,
   "id": "d5c292b6-acd1-4042-9410-3f7ce39d2b6d",
   "metadata": {},
   "outputs": [],
   "source": [
    "import re\n",
    "\n",
    "def extract_letters_and_spaces(input_string):\n",
    "    # Use regular expression to keep only letters and spaces\n",
    "    result = re.sub(r'[^a-zA-Z\\s]', '', input_string)\n",
    "    return result"
   ]
  },
  {
   "cell_type": "code",
   "execution_count": 3,
   "id": "2a0ae61e-9b0d-474c-b763-32982095ae9d",
   "metadata": {},
   "outputs": [],
   "source": [
    "# FIRST ATTEMPT\n",
    "import numpy as np\n",
    "# Ok so we need a way to encode this. Lets do that. Then we put that into our model, and train on that, with each thing outputting each letter thing. And then just go from there.\n",
    "\n",
    "#corpus = \n",
    "#cleaned_string = extract_letters_and_spaces(corpus).upper()\n",
    "#print(cleaned_string)\n"
   ]
  },
  {
   "cell_type": "code",
   "execution_count": 4,
   "id": "08d08d9d-6676-4cbb-b4d1-03bed700137c",
   "metadata": {},
   "outputs": [],
   "source": [
    "context_window = 250\n",
    "#cleaned_string[:context_window]"
   ]
  },
  {
   "cell_type": "code",
   "execution_count": 5,
   "id": "eecdefe0-ccca-40ee-90c1-f63445af46e5",
   "metadata": {},
   "outputs": [],
   "source": [
    "# Wait so for our training thing we are gonna need way more right? Like this this thing might not learn... i guess you gonna have different training samples with this context window, and feed it multiple times with all your training. This means you might need to cut up the text of catcher in the rye for example, into sequences like this, and just u know, train the model as you go through"
   ]
  },
  {
   "cell_type": "code",
   "execution_count": 6,
   "id": "16f23fc2-5ecb-4dff-9c21-4084f20064d6",
   "metadata": {},
   "outputs": [],
   "source": [
    "# So the first thing we need is the data, which is the entire corpus chopped up into 250 blocks, and predictions like \"next letter\" type thing. \n",
    "with open(\"the_catcher_in_the_rye.txt\", \"r\", encoding=\"utf-8\") as f:\n",
    "    text = f.read()"
   ]
  },
  {
   "cell_type": "code",
   "execution_count": 7,
   "id": "700f3abe-bb28-4688-822f-6584db960d97",
   "metadata": {},
   "outputs": [],
   "source": [
    "big_corpus = extract_letters_and_spaces(text).replace(\"\\n\", \" \").upper()"
   ]
  },
  {
   "cell_type": "code",
   "execution_count": 8,
   "id": "ac9f7aff-ce2f-4a88-b94f-d523e53b52c9",
   "metadata": {},
   "outputs": [],
   "source": [
    "cleaned_corpus = []\n",
    "for c in big_corpus:\n",
    "    if c in [\"A\", \"B\", \"C\", \"D\", \"E\", \"F\", \"G\", \"H\", \"I\", \"J\", \"K\", \"L\", \"M\", \"N\", \"O\", \"P\", \"Q\", \"R\", \"S\", \"T\", \"U\", \"V\", \"W\", \"X\", \"Y\", \"Z\", \" \"]:\n",
    "        cleaned_corpus.append(c)\n"
   ]
  },
  {
   "cell_type": "code",
   "execution_count": 9,
   "id": "5b5daded-ec08-468f-a309-4c0ba045e478",
   "metadata": {},
   "outputs": [
    {
     "data": {
      "text/plain": [
       "[0,\n",
       " 0,\n",
       " 0,\n",
       " 0,\n",
       " 1,\n",
       " 0,\n",
       " 0,\n",
       " 0,\n",
       " 0,\n",
       " 0,\n",
       " 0,\n",
       " 0,\n",
       " 0,\n",
       " 0,\n",
       " 0,\n",
       " 0,\n",
       " 0,\n",
       " 0,\n",
       " 0,\n",
       " 0,\n",
       " 0,\n",
       " 0,\n",
       " 0,\n",
       " 0,\n",
       " 0,\n",
       " 0,\n",
       " 0,\n",
       " 0,\n",
       " 1,\n",
       " 0,\n",
       " 0,\n",
       " 0]"
      ]
     },
     "execution_count": 9,
     "metadata": {},
     "output_type": "execute_result"
    }
   ],
   "source": [
    "# ok so now we need to do our encoding.\n",
    "import numpy as np\n",
    "def encoder(character, context_window, where_is_character_in_context):\n",
    "    encoder_book = [\"A\", \"B\", \"C\", \"D\", \"E\", \"F\", \"G\", \"H\", \"I\", \"J\", \"K\", \"L\", \"M\", \"N\", \"O\", \"P\", \"Q\", \"R\", \"S\", \"T\", \"U\", \"V\", \"W\", \"X\", \"Y\", \"Z\", \" \"]\n",
    "    encoded_c = []\n",
    "    for i in range(len(encoder_book)):\n",
    "        if encoder_book[i]==character:\n",
    "            encoded_c.append(1)\n",
    "        else:\n",
    "            encoded_c.append(0)\n",
    "    # then append the position and thats based on the context window\n",
    "    for p in range(context_window):\n",
    "        if p==where_is_character_in_context:\n",
    "            encoded_c.append(1)\n",
    "        else:\n",
    "            encoded_c.append(0)\n",
    "    \n",
    "    return encoded_c\n",
    "\n",
    "# Example\n",
    "encoder('E', 5, 1) # (e in hello) make sure you put the index. so i wanna encode entire words\n"
   ]
  },
  {
   "cell_type": "code",
   "execution_count": 10,
   "id": "796e22b8-7189-48a6-9a6f-6bc58fb5b9d8",
   "metadata": {},
   "outputs": [],
   "source": [
    "# this should simply do the following: given the entir elist of the coprus, we should simply chop up the corpus so its 250 sort of blocks, we need to change our original nn cuz it took pixels kind of stuff. We are gonna already be in a vecotrized form.\n",
    "# anyways this function simply give the list of corpus, chops up the corpus so its 250 blocks, then basically does the whole thing so we have training data and basically puts the y_labels with next \"right\" character. (and finally encodes it, then does the numpy stuff for the right format and boom)\n",
    "def reformat_for_training(corp, context_window):\n",
    "    current_data_sample = []\n",
    "    # it should be a tuple thing of tuples here\n",
    "    labels = []\n",
    "    for i in range(context_window, len(corp)):\n",
    "        current_window_data = corp[(i-context_window):i]\n",
    "        current_data_sample.append(current_window_data)\n",
    "        labels.append(corp[i])\n",
    "    return current_data_sample, labels\n",
    "\n",
    "        "
   ]
  },
  {
   "cell_type": "code",
   "execution_count": 11,
   "id": "16a48ce5-ca58-4f93-bf91-a43aada94a6a",
   "metadata": {},
   "outputs": [],
   "source": [
    "string_data, labels = reformat_for_training(cleaned_corpus, 250)"
   ]
  },
  {
   "cell_type": "code",
   "execution_count": 12,
   "id": "855ac14c-89c8-4083-a3eb-010f50927355",
   "metadata": {},
   "outputs": [],
   "source": [
    "#labels[0]"
   ]
  },
  {
   "cell_type": "code",
   "execution_count": 13,
   "id": "03f2b582-b181-4d63-baf0-63ceaad80bd0",
   "metadata": {},
   "outputs": [],
   "source": [
    "#string_data[:2]"
   ]
  },
  {
   "cell_type": "code",
   "execution_count": 14,
   "id": "b33229c1-b394-49e1-8412-23455739010f",
   "metadata": {},
   "outputs": [
    {
     "name": "stderr",
     "output_type": "stream",
     "text": [
      "100%|█████████████████████████████████████████████████████████████████████████████| 1443/1443 [00:03<00:00, 388.42it/s]\n"
     ]
    }
   ],
   "source": [
    "# ok now that works let us encode the string data into actual numbers ang go from there\n",
    "import tqdm\n",
    "def encode_corpus_data(ll_of_strings, context_size):\n",
    "    encoded_string_data = []\n",
    "    for sample in tqdm.tqdm(ll_of_strings):\n",
    "        current_sample = []\n",
    "        for chari in range(len(sample)):\n",
    "            current_sample.append(encoder(sample[chari], context_size, chari)) # note this will simply append it all, and this basically becomes our actual vecotrized input! it becomes not just for 1 character, but now 1 giant vector for all\n",
    "        encoded_string_data.append(current_sample)\n",
    "    return np.array(encoded_string_data)\n",
    "X = encode_corpus_data(string_data, context_window)  "
   ]
  },
  {
   "cell_type": "code",
   "execution_count": 15,
   "id": "6733eacf-696a-48d1-bf9e-eb8957ad6d68",
   "metadata": {},
   "outputs": [
    {
     "data": {
      "text/plain": [
       "(1443, 250, 277)"
      ]
     },
     "execution_count": 15,
     "metadata": {},
     "output_type": "execute_result"
    }
   ],
   "source": [
    "X.shape"
   ]
  },
  {
   "cell_type": "code",
   "execution_count": 26,
   "id": "cae42a7b-c832-4ae5-a468-ccda8b2876e7",
   "metadata": {},
   "outputs": [
    {
     "data": {
      "text/plain": [
       "(250, 277)"
      ]
     },
     "execution_count": 26,
     "metadata": {},
     "output_type": "execute_result"
    }
   ],
   "source": [
    "X[0].shape"
   ]
  },
  {
   "cell_type": "code",
   "execution_count": 17,
   "id": "3a341d16-bb2c-442a-9d98-da446515cc12",
   "metadata": {},
   "outputs": [
    {
     "data": {
      "text/plain": [
       "array([26,  5,  4, ..., 26, 12,  4])"
      ]
     },
     "execution_count": 17,
     "metadata": {},
     "output_type": "execute_result"
    }
   ],
   "source": [
    "# ok this is really good now. Now let us feed this into our neural network\n",
    "def correct_labels(lab):\n",
    "    output_book = [\"A\", \"B\", \"C\", \"D\", \"E\", \"F\", \"G\", \"H\", \"I\", \"J\", \"K\", \"L\", \"M\", \"N\", \"O\", \"P\", \"Q\", \"R\", \"S\", \"T\", \"U\", \"V\", \"W\", \"X\", \"Y\", \"Z\", \" \"]\n",
    "    correct_label = []\n",
    "    for l in lab:\n",
    "        correct_label.append(output_book.index(l))\n",
    "    return correct_label\n",
    "        \n",
    "\n",
    "# we also have our ylabels they are:\n",
    "y = np.array(correct_labels(labels))\n",
    "y"
   ]
  },
  {
   "cell_type": "code",
   "execution_count": 18,
   "id": "72f4f1c9-89ad-4b38-9f87-71e027a86885",
   "metadata": {},
   "outputs": [],
   "source": [
    "# for labels we can simply output something like we can simply have instead k classes so we can just output a number between 0 and 26, each corresponding to the right index of the \n"
   ]
  },
  {
   "cell_type": "code",
   "execution_count": 19,
   "id": "32255bf8-dbe8-4c22-af53-700cfb5e9eb6",
   "metadata": {},
   "outputs": [
    {
     "name": "stdout",
     "output_type": "stream",
     "text": [
      "\n",
      "=== Training single model for all letters ===\n"
     ]
    },
    {
     "name": "stderr",
     "output_type": "stream",
     "text": [
      "Training model: 100%|██████████████████████████████████████████████████████████████| 2500/2500 [00:55<00:00, 45.14it/s]\n"
     ]
    }
   ],
   "source": [
    "# OUR MODEL - Modified for multi-class output\n",
    "\n",
    "LAYERS = [(69250, 1024),    # Drastic reduction\n",
    "          (1024, 512),      # Mid-level features\n",
    "          (512, 256),       # Compact representation\n",
    "          (256, 27)]        # Output layer now has 27 units (one per class)\n",
    "\n",
    "import torch\n",
    "import torch.nn as nn\n",
    "import torch.optim as optim\n",
    "from torch.utils.data import DataLoader, TensorDataset\n",
    "from tqdm import tqdm\n",
    "import pickle\n",
    "import numpy as np\n",
    "\n",
    "class FastANN(nn.Module):\n",
    "    def __init__(self, layer_sizes):\n",
    "        super().__init__()\n",
    "        layers = []\n",
    "        for i, (in_size, out_size) in enumerate(layer_sizes):\n",
    "            layers.append(nn.Linear(in_size, out_size))\n",
    "            if i < len(layer_sizes)-1:\n",
    "                layers.append(nn.ReLU())\n",
    "            # No activation on final layer - we'll use CrossEntropyLoss which includes SoftMax\n",
    "        self.net = nn.Sequential(*layers)\n",
    "    \n",
    "    def forward(self, x):\n",
    "        return self.net(x)\n",
    "\n",
    "def train_model(X, y, epochs=2500, batch_size=1000, lr=0.01):\n",
    "    device = torch.device(\"cuda\")#(\"cpu\")  # or \"cuda\" if available\n",
    "    \n",
    "    # Convert to PyTorch tensors\n",
    "    X_tensor = torch.FloatTensor(X.reshape(X.shape[0], -1)).to(device)\n",
    "    y_tensor = torch.LongTensor(y).to(device)  # Class indices as long integers\n",
    "    \n",
    "    # Create model with GPU support\n",
    "    layer_sizes = LAYERS\n",
    "    model = FastANN(layer_sizes).to(device)\n",
    "    \n",
    "    # Loss and optimizer\n",
    "    criterion = nn.CrossEntropyLoss()  # Combines LogSoftMax and NLLLoss\n",
    "    optimizer = optim.Adam(model.parameters(), lr=lr)\n",
    "    \n",
    "    # Data loader\n",
    "    dataset = TensorDataset(X_tensor, y_tensor)\n",
    "    loader = DataLoader(dataset, batch_size=batch_size, shuffle=True)\n",
    "    \n",
    "    # Training loop\n",
    "    model.train()\n",
    "    for epoch in tqdm(range(epochs), desc=\"Training model\"):\n",
    "        for batch_X, batch_y in loader:\n",
    "            optimizer.zero_grad()\n",
    "            outputs = model(batch_X)\n",
    "            loss = criterion(outputs, batch_y)\n",
    "            loss.backward()\n",
    "            optimizer.step()\n",
    "    \n",
    "    # Save weights and biases\n",
    "    params = {\n",
    "        \"weights\": [layer.weight.data.cpu().numpy() \n",
    "                   for layer in model.net if isinstance(layer, nn.Linear)],\n",
    "        \"biases\": [layer.bias.data.cpu().numpy() \n",
    "                  for layer in model.net if isinstance(layer, nn.Linear)]\n",
    "    }\n",
    "    \n",
    "    with open('letter_model_params.pkl', 'wb') as f:\n",
    "        pickle.dump(params, f)\n",
    "    \n",
    "    return model\n",
    "\n",
    "# Load data\n",
    "# X = your input data (n_samples, height, width)\n",
    "# y = your labels as integers (0-26 corresponding to output_book)\n",
    "\n",
    "output_book = [\"A\", \"B\", \"C\", \"D\", \"E\", \"F\", \"G\", \"H\", \"I\", \"J\", \"K\", \"L\", \"M\", \n",
    "               \"N\", \"O\", \"P\", \"Q\", \"R\", \"S\", \"T\", \"U\", \"V\", \"W\", \"X\", \"Y\", \"Z\", \" \"]\n",
    "\n",
    "# Train the single model\n",
    "print(\"\\n=== Training single model for all letters ===\")\n",
    "model = train_model(X, y)\n",
    "\n",
    "# To get predictions:\n",
    "# model.eval()\n",
    "# with torch.no_grad():\n",
    "#     outputs = model(input_tensor)\n",
    "#     probabilities = torch.softmax(outputs, dim=1)  # Convert to probabilities\n",
    "#     predicted_class = torch.argmax(probabilities, dim=1)"
   ]
  },
  {
   "cell_type": "code",
   "execution_count": 28,
   "id": "2d054f9a-bedb-49a6-8873-863d0169495b",
   "metadata": {},
   "outputs": [],
   "source": [
    "import torch\n",
    "import numpy as np\n",
    "from torch import nn\n",
    "\n",
    "class FastANN(nn.Module):\n",
    "    def __init__(self, layer_sizes):\n",
    "        super().__init__()\n",
    "        layers = []\n",
    "        for i, (in_size, out_size) in enumerate(layer_sizes):\n",
    "            layers.append(nn.Linear(in_size, out_size))\n",
    "            if i < len(layer_sizes)-1:\n",
    "                layers.append(nn.ReLU())\n",
    "        self.net = nn.Sequential(*layers)\n",
    "    \n",
    "    def forward(self, x):\n",
    "        return self.net(x)\n",
    "\n",
    "def load_model(model_path='letter_model_params.pkl'):\n",
    "    # Define the same architecture used during training\n",
    "    layer_sizes = LAYERS\n",
    "    model = FastANN(layer_sizes)\n",
    "    \n",
    "    # Load the saved parameters\n",
    "    with open(model_path, 'rb') as f:\n",
    "        params = pickle.load(f)\n",
    "    \n",
    "    # Set the model weights\n",
    "    for i, layer in enumerate([layer for layer in model.net if isinstance(layer, nn.Linear)]):\n",
    "        layer.weight.data = torch.FloatTensor(params['weights'][i])\n",
    "        layer.bias.data = torch.FloatTensor(params['biases'][i])\n",
    "    \n",
    "    return model\n",
    "\n",
    "def predict_letter(model, input_data, output_book):\n",
    "    \"\"\"\n",
    "    Predicts the letter from input data\n",
    "    \n",
    "    Args:\n",
    "        model: The trained FastANN model\n",
    "        input_data: Input array (1, height, width) or flattened (69250,)\n",
    "        output_book: List of possible outputs (A-Z + space)\n",
    "    \n",
    "    Returns:\n",
    "        tuple: (predicted_letter, confidence, all_probabilities)\n",
    "    \"\"\"\n",
    "    # Ensure model is in evaluation mode\n",
    "    model.eval()\n",
    "    \n",
    "    # Convert input to tensor and flatten if needed\n",
    "    if len(input_data.shape) > 1:\n",
    "        input_data = input_data.reshape(1, -1)  # Flatten to (1, 69250)\n",
    "    input_tensor = torch.FloatTensor(input_data)\n",
    "    \n",
    "    # Get predictions\n",
    "    with torch.no_grad():\n",
    "        outputs = model(input_tensor)\n",
    "        probabilities = torch.softmax(outputs, dim=1)\n",
    "    \n",
    "    # Get top prediction\n",
    "    top_prob, top_idx = torch.max(probabilities, dim=1)\n",
    "    predicted_letter = output_book[top_idx.item()]\n",
    "    confidence = top_prob.item()\n",
    "    \n",
    "    # Get all probabilities as a dictionary\n",
    "    all_probs = {output_book[i]: prob.item() for i, prob in enumerate(probabilities.squeeze())}\n",
    "    \n",
    "    return predicted_letter, confidence, all_probs"
   ]
  },
  {
   "cell_type": "code",
   "execution_count": 77,
   "id": "a5804f00-ecec-4d67-832f-520cfea06240",
   "metadata": {},
   "outputs": [],
   "source": [
    "# What do you want your model to predict? \n",
    "# Function that takes in any string input and basically converts it in the right format, and then we should have a loop, where our function outputs some text (say maybe 100 characters or something)\n",
    "import tqdm\n",
    "def encode_input(user_input):\n",
    "    if len(user_input) < 250:\n",
    "        user_input = \" \"*250 + user_input\n",
    "    big_corpus = extract_letters_and_spaces(user_input).replace(\"\\n\", \" \").upper()\n",
    "    \n",
    "    cleaned_corpus = []\n",
    "    for c in big_corpus:\n",
    "        if c in [\"A\", \"B\", \"C\", \"D\", \"E\", \"F\", \"G\", \"H\", \"I\", \"J\", \"K\", \"L\", \"M\", \"N\", \"O\", \"P\", \"Q\", \"R\", \"S\", \"T\", \"U\", \"V\", \"W\", \"X\", \"Y\", \"Z\", \" \"]:\n",
    "            cleaned_corpus.append(c)\n",
    "    \n",
    "    string_data, labels = reformat_for_training(cleaned_corpus, 250)\n",
    "    #print(cleaned_corpus)\n",
    "    return encode_corpus_data(string_data, context_window) # limit of 250 characters for now but lets see how it predicts         "
   ]
  },
  {
   "cell_type": "code",
   "execution_count": 78,
   "id": "1ace239d-155c-45bf-925f-a2434ab2bf5f",
   "metadata": {},
   "outputs": [
    {
     "name": "stderr",
     "output_type": "stream",
     "text": [
      "100%|█████████████████████████████████████████████████████████████████████████████████| 85/85 [00:00<00:00, 268.89it/s]\n"
     ]
    }
   ],
   "source": [
    "user_input = \"It was about this little kid that wouldn’t let anybody look at his goldfish and it was\"\n",
    "X = encode_input(user_input)"
   ]
  },
  {
   "cell_type": "code",
   "execution_count": 79,
   "id": "59292411-56af-454e-a871-45f0005587bd",
   "metadata": {},
   "outputs": [
    {
     "data": {
      "text/plain": [
       "array([[0, 0, 0, ..., 0, 0, 0],\n",
       "       [0, 0, 0, ..., 0, 0, 0],\n",
       "       [0, 0, 0, ..., 0, 0, 0],\n",
       "       ...,\n",
       "       [0, 0, 0, ..., 1, 0, 0],\n",
       "       [0, 0, 0, ..., 0, 1, 0],\n",
       "       [1, 0, 0, ..., 0, 0, 1]])"
      ]
     },
     "execution_count": 79,
     "metadata": {},
     "output_type": "execute_result"
    }
   ],
   "source": [
    "X[-1] # truthfully we only want the last one cuz thats the next "
   ]
  },
  {
   "cell_type": "code",
   "execution_count": 83,
   "id": "de35c053-93da-4c05-a98c-01604cfb7139",
   "metadata": {},
   "outputs": [
    {
     "name": "stderr",
     "output_type": "stream",
     "text": [
      "100%|███████████████████████████████████████████████████████████████████████████████| 434/434 [00:01<00:00, 289.55it/s]\n"
     ]
    },
    {
     "name": "stdout",
     "output_type": "stream",
     "text": [
      "If you really want to hear about it, the first thing you’ll probably want to know is where I was born, an what my lousy childhood was like, and how my parents were occupied and all before they had me, and all that David Copperfield kind of crap, but I don’t feel like going into it, if you want to know the truth. In the first place, that stuff bores me, and in the second place, my parents would have about two hemorrhages apiece if I told anything pretty personal about them. They’re quite touchy about anything like that, especially my father. They’re nice and all — I’m not saying that — but they’re also touchy as hell. Besides, I’m not going to tell you my whole goddam autobiography or anything. I’ll justT\n"
     ]
    },
    {
     "name": "stderr",
     "output_type": "stream",
     "text": [
      "100%|███████████████████████████████████████████████████████████████████████████████| 435/435 [00:01<00:00, 293.53it/s]\n"
     ]
    },
    {
     "name": "stdout",
     "output_type": "stream",
     "text": [
      "If you really want to hear about it, the first thing you’ll probably want to know is where I was born, an what my lousy childhood was like, and how my parents were occupied and all before they had me, and all that David Copperfield kind of crap, but I don’t feel like going into it, if you want to know the truth. In the first place, that stuff bores me, and in the second place, my parents would have about two hemorrhages apiece if I told anything pretty personal about them. They’re quite touchy about anything like that, especially my father. They’re nice and all — I’m not saying that — but they’re also touchy as hell. Besides, I’m not going to tell you my whole goddam autobiography or anything. I’ll justT \n"
     ]
    },
    {
     "name": "stderr",
     "output_type": "stream",
     "text": [
      "100%|███████████████████████████████████████████████████████████████████████████████| 436/436 [00:01<00:00, 288.93it/s]\n"
     ]
    },
    {
     "name": "stdout",
     "output_type": "stream",
     "text": [
      "If you really want to hear about it, the first thing you’ll probably want to know is where I was born, an what my lousy childhood was like, and how my parents were occupied and all before they had me, and all that David Copperfield kind of crap, but I don’t feel like going into it, if you want to know the truth. In the first place, that stuff bores me, and in the second place, my parents would have about two hemorrhages apiece if I told anything pretty personal about them. They’re quite touchy about anything like that, especially my father. They’re nice and all — I’m not saying that — but they’re also touchy as hell. Besides, I’m not going to tell you my whole goddam autobiography or anything. I’ll justT T\n"
     ]
    },
    {
     "name": "stderr",
     "output_type": "stream",
     "text": [
      "100%|███████████████████████████████████████████████████████████████████████████████| 437/437 [00:01<00:00, 264.95it/s]\n"
     ]
    },
    {
     "name": "stdout",
     "output_type": "stream",
     "text": [
      "If you really want to hear about it, the first thing you’ll probably want to know is where I was born, an what my lousy childhood was like, and how my parents were occupied and all before they had me, and all that David Copperfield kind of crap, but I don’t feel like going into it, if you want to know the truth. In the first place, that stuff bores me, and in the second place, my parents would have about two hemorrhages apiece if I told anything pretty personal about them. They’re quite touchy about anything like that, especially my father. They’re nice and all — I’m not saying that — but they’re also touchy as hell. Besides, I’m not going to tell you my whole goddam autobiography or anything. I’ll justT TE\n"
     ]
    },
    {
     "name": "stderr",
     "output_type": "stream",
     "text": [
      "100%|███████████████████████████████████████████████████████████████████████████████| 438/438 [00:01<00:00, 278.68it/s]\n"
     ]
    },
    {
     "name": "stdout",
     "output_type": "stream",
     "text": [
      "If you really want to hear about it, the first thing you’ll probably want to know is where I was born, an what my lousy childhood was like, and how my parents were occupied and all before they had me, and all that David Copperfield kind of crap, but I don’t feel like going into it, if you want to know the truth. In the first place, that stuff bores me, and in the second place, my parents would have about two hemorrhages apiece if I told anything pretty personal about them. They’re quite touchy about anything like that, especially my father. They’re nice and all — I’m not saying that — but they’re also touchy as hell. Besides, I’m not going to tell you my whole goddam autobiography or anything. I’ll justT TEL\n"
     ]
    },
    {
     "name": "stderr",
     "output_type": "stream",
     "text": [
      "100%|███████████████████████████████████████████████████████████████████████████████| 439/439 [00:01<00:00, 277.41it/s]\n"
     ]
    },
    {
     "name": "stdout",
     "output_type": "stream",
     "text": [
      "If you really want to hear about it, the first thing you’ll probably want to know is where I was born, an what my lousy childhood was like, and how my parents were occupied and all before they had me, and all that David Copperfield kind of crap, but I don’t feel like going into it, if you want to know the truth. In the first place, that stuff bores me, and in the second place, my parents would have about two hemorrhages apiece if I told anything pretty personal about them. They’re quite touchy about anything like that, especially my father. They’re nice and all — I’m not saying that — but they’re also touchy as hell. Besides, I’m not going to tell you my whole goddam autobiography or anything. I’ll justT TELL\n"
     ]
    },
    {
     "name": "stderr",
     "output_type": "stream",
     "text": [
      "100%|███████████████████████████████████████████████████████████████████████████████| 440/440 [00:01<00:00, 278.59it/s]\n"
     ]
    },
    {
     "name": "stdout",
     "output_type": "stream",
     "text": [
      "If you really want to hear about it, the first thing you’ll probably want to know is where I was born, an what my lousy childhood was like, and how my parents were occupied and all before they had me, and all that David Copperfield kind of crap, but I don’t feel like going into it, if you want to know the truth. In the first place, that stuff bores me, and in the second place, my parents would have about two hemorrhages apiece if I told anything pretty personal about them. They’re quite touchy about anything like that, especially my father. They’re nice and all — I’m not saying that — but they’re also touchy as hell. Besides, I’m not going to tell you my whole goddam autobiography or anything. I’ll justT TELL \n"
     ]
    },
    {
     "name": "stderr",
     "output_type": "stream",
     "text": [
      "100%|███████████████████████████████████████████████████████████████████████████████| 441/441 [00:01<00:00, 277.69it/s]\n"
     ]
    },
    {
     "name": "stdout",
     "output_type": "stream",
     "text": [
      "If you really want to hear about it, the first thing you’ll probably want to know is where I was born, an what my lousy childhood was like, and how my parents were occupied and all before they had me, and all that David Copperfield kind of crap, but I don’t feel like going into it, if you want to know the truth. In the first place, that stuff bores me, and in the second place, my parents would have about two hemorrhages apiece if I told anything pretty personal about them. They’re quite touchy about anything like that, especially my father. They’re nice and all — I’m not saying that — but they’re also touchy as hell. Besides, I’m not going to tell you my whole goddam autobiography or anything. I’ll justT TELL Y\n"
     ]
    },
    {
     "name": "stderr",
     "output_type": "stream",
     "text": [
      "100%|███████████████████████████████████████████████████████████████████████████████| 442/442 [00:01<00:00, 277.86it/s]\n"
     ]
    },
    {
     "name": "stdout",
     "output_type": "stream",
     "text": [
      "If you really want to hear about it, the first thing you’ll probably want to know is where I was born, an what my lousy childhood was like, and how my parents were occupied and all before they had me, and all that David Copperfield kind of crap, but I don’t feel like going into it, if you want to know the truth. In the first place, that stuff bores me, and in the second place, my parents would have about two hemorrhages apiece if I told anything pretty personal about them. They’re quite touchy about anything like that, especially my father. They’re nice and all — I’m not saying that — but they’re also touchy as hell. Besides, I’m not going to tell you my whole goddam autobiography or anything. I’ll justT TELL YO\n"
     ]
    },
    {
     "name": "stderr",
     "output_type": "stream",
     "text": [
      "100%|███████████████████████████████████████████████████████████████████████████████| 443/443 [00:01<00:00, 270.58it/s]\n"
     ]
    },
    {
     "name": "stdout",
     "output_type": "stream",
     "text": [
      "If you really want to hear about it, the first thing you’ll probably want to know is where I was born, an what my lousy childhood was like, and how my parents were occupied and all before they had me, and all that David Copperfield kind of crap, but I don’t feel like going into it, if you want to know the truth. In the first place, that stuff bores me, and in the second place, my parents would have about two hemorrhages apiece if I told anything pretty personal about them. They’re quite touchy about anything like that, especially my father. They’re nice and all — I’m not saying that — but they’re also touchy as hell. Besides, I’m not going to tell you my whole goddam autobiography or anything. I’ll justT TELL YOL\n"
     ]
    },
    {
     "name": "stderr",
     "output_type": "stream",
     "text": [
      "100%|███████████████████████████████████████████████████████████████████████████████| 444/444 [00:01<00:00, 283.25it/s]\n"
     ]
    },
    {
     "name": "stdout",
     "output_type": "stream",
     "text": [
      "If you really want to hear about it, the first thing you’ll probably want to know is where I was born, an what my lousy childhood was like, and how my parents were occupied and all before they had me, and all that David Copperfield kind of crap, but I don’t feel like going into it, if you want to know the truth. In the first place, that stuff bores me, and in the second place, my parents would have about two hemorrhages apiece if I told anything pretty personal about them. They’re quite touchy about anything like that, especially my father. They’re nice and all — I’m not saying that — but they’re also touchy as hell. Besides, I’m not going to tell you my whole goddam autobiography or anything. I’ll justT TELL YOL \n"
     ]
    },
    {
     "name": "stderr",
     "output_type": "stream",
     "text": [
      "100%|███████████████████████████████████████████████████████████████████████████████| 445/445 [00:01<00:00, 277.93it/s]\n"
     ]
    },
    {
     "name": "stdout",
     "output_type": "stream",
     "text": [
      "If you really want to hear about it, the first thing you’ll probably want to know is where I was born, an what my lousy childhood was like, and how my parents were occupied and all before they had me, and all that David Copperfield kind of crap, but I don’t feel like going into it, if you want to know the truth. In the first place, that stuff bores me, and in the second place, my parents would have about two hemorrhages apiece if I told anything pretty personal about them. They’re quite touchy about anything like that, especially my father. They’re nice and all — I’m not saying that — but they’re also touchy as hell. Besides, I’m not going to tell you my whole goddam autobiography or anything. I’ll justT TELL YOL A\n"
     ]
    },
    {
     "name": "stderr",
     "output_type": "stream",
     "text": [
      "100%|███████████████████████████████████████████████████████████████████████████████| 446/446 [00:01<00:00, 287.65it/s]\n"
     ]
    },
    {
     "name": "stdout",
     "output_type": "stream",
     "text": [
      "If you really want to hear about it, the first thing you’ll probably want to know is where I was born, an what my lousy childhood was like, and how my parents were occupied and all before they had me, and all that David Copperfield kind of crap, but I don’t feel like going into it, if you want to know the truth. In the first place, that stuff bores me, and in the second place, my parents would have about two hemorrhages apiece if I told anything pretty personal about them. They’re quite touchy about anything like that, especially my father. They’re nice and all — I’m not saying that — but they’re also touchy as hell. Besides, I’m not going to tell you my whole goddam autobiography or anything. I’ll justT TELL YOL AB\n"
     ]
    },
    {
     "name": "stderr",
     "output_type": "stream",
     "text": [
      "100%|███████████████████████████████████████████████████████████████████████████████| 447/447 [00:01<00:00, 285.31it/s]\n"
     ]
    },
    {
     "name": "stdout",
     "output_type": "stream",
     "text": [
      "If you really want to hear about it, the first thing you’ll probably want to know is where I was born, an what my lousy childhood was like, and how my parents were occupied and all before they had me, and all that David Copperfield kind of crap, but I don’t feel like going into it, if you want to know the truth. In the first place, that stuff bores me, and in the second place, my parents would have about two hemorrhages apiece if I told anything pretty personal about them. They’re quite touchy about anything like that, especially my father. They’re nice and all — I’m not saying that — but they’re also touchy as hell. Besides, I’m not going to tell you my whole goddam autobiography or anything. I’ll justT TELL YOL ABO\n"
     ]
    },
    {
     "name": "stderr",
     "output_type": "stream",
     "text": [
      "100%|███████████████████████████████████████████████████████████████████████████████| 448/448 [00:01<00:00, 282.86it/s]\n"
     ]
    },
    {
     "name": "stdout",
     "output_type": "stream",
     "text": [
      "If you really want to hear about it, the first thing you’ll probably want to know is where I was born, an what my lousy childhood was like, and how my parents were occupied and all before they had me, and all that David Copperfield kind of crap, but I don’t feel like going into it, if you want to know the truth. In the first place, that stuff bores me, and in the second place, my parents would have about two hemorrhages apiece if I told anything pretty personal about them. They’re quite touchy about anything like that, especially my father. They’re nice and all — I’m not saying that — but they’re also touchy as hell. Besides, I’m not going to tell you my whole goddam autobiography or anything. I’ll justT TELL YOL ABOU\n"
     ]
    },
    {
     "name": "stderr",
     "output_type": "stream",
     "text": [
      "100%|███████████████████████████████████████████████████████████████████████████████| 449/449 [00:01<00:00, 284.11it/s]\n"
     ]
    },
    {
     "name": "stdout",
     "output_type": "stream",
     "text": [
      "If you really want to hear about it, the first thing you’ll probably want to know is where I was born, an what my lousy childhood was like, and how my parents were occupied and all before they had me, and all that David Copperfield kind of crap, but I don’t feel like going into it, if you want to know the truth. In the first place, that stuff bores me, and in the second place, my parents would have about two hemorrhages apiece if I told anything pretty personal about them. They’re quite touchy about anything like that, especially my father. They’re nice and all — I’m not saying that — but they’re also touchy as hell. Besides, I’m not going to tell you my whole goddam autobiography or anything. I’ll justT TELL YOL ABOUT\n"
     ]
    },
    {
     "name": "stderr",
     "output_type": "stream",
     "text": [
      "100%|███████████████████████████████████████████████████████████████████████████████| 450/450 [00:01<00:00, 286.80it/s]\n"
     ]
    },
    {
     "name": "stdout",
     "output_type": "stream",
     "text": [
      "If you really want to hear about it, the first thing you’ll probably want to know is where I was born, an what my lousy childhood was like, and how my parents were occupied and all before they had me, and all that David Copperfield kind of crap, but I don’t feel like going into it, if you want to know the truth. In the first place, that stuff bores me, and in the second place, my parents would have about two hemorrhages apiece if I told anything pretty personal about them. They’re quite touchy about anything like that, especially my father. They’re nice and all — I’m not saying that — but they’re also touchy as hell. Besides, I’m not going to tell you my whole goddam autobiography or anything. I’ll justT TELL YOL ABOUT \n"
     ]
    },
    {
     "name": "stderr",
     "output_type": "stream",
     "text": [
      "100%|███████████████████████████████████████████████████████████████████████████████| 451/451 [00:01<00:00, 280.05it/s]\n"
     ]
    },
    {
     "name": "stdout",
     "output_type": "stream",
     "text": [
      "If you really want to hear about it, the first thing you’ll probably want to know is where I was born, an what my lousy childhood was like, and how my parents were occupied and all before they had me, and all that David Copperfield kind of crap, but I don’t feel like going into it, if you want to know the truth. In the first place, that stuff bores me, and in the second place, my parents would have about two hemorrhages apiece if I told anything pretty personal about them. They’re quite touchy about anything like that, especially my father. They’re nice and all — I’m not saying that — but they’re also touchy as hell. Besides, I’m not going to tell you my whole goddam autobiography or anything. I’ll justT TELL YOL ABOUT T\n"
     ]
    },
    {
     "name": "stderr",
     "output_type": "stream",
     "text": [
      "100%|███████████████████████████████████████████████████████████████████████████████| 452/452 [00:01<00:00, 291.50it/s]\n"
     ]
    },
    {
     "name": "stdout",
     "output_type": "stream",
     "text": [
      "If you really want to hear about it, the first thing you’ll probably want to know is where I was born, an what my lousy childhood was like, and how my parents were occupied and all before they had me, and all that David Copperfield kind of crap, but I don’t feel like going into it, if you want to know the truth. In the first place, that stuff bores me, and in the second place, my parents would have about two hemorrhages apiece if I told anything pretty personal about them. They’re quite touchy about anything like that, especially my father. They’re nice and all — I’m not saying that — but they’re also touchy as hell. Besides, I’m not going to tell you my whole goddam autobiography or anything. I’ll justT TELL YOL ABOUT TH\n"
     ]
    },
    {
     "name": "stderr",
     "output_type": "stream",
     "text": [
      "100%|███████████████████████████████████████████████████████████████████████████████| 453/453 [00:01<00:00, 292.03it/s]\n"
     ]
    },
    {
     "name": "stdout",
     "output_type": "stream",
     "text": [
      "If you really want to hear about it, the first thing you’ll probably want to know is where I was born, an what my lousy childhood was like, and how my parents were occupied and all before they had me, and all that David Copperfield kind of crap, but I don’t feel like going into it, if you want to know the truth. In the first place, that stuff bores me, and in the second place, my parents would have about two hemorrhages apiece if I told anything pretty personal about them. They’re quite touchy about anything like that, especially my father. They’re nice and all — I’m not saying that — but they’re also touchy as hell. Besides, I’m not going to tell you my whole goddam autobiography or anything. I’ll justT TELL YOL ABOUT THI\n"
     ]
    },
    {
     "name": "stderr",
     "output_type": "stream",
     "text": [
      "100%|███████████████████████████████████████████████████████████████████████████████| 454/454 [00:01<00:00, 284.03it/s]\n"
     ]
    },
    {
     "name": "stdout",
     "output_type": "stream",
     "text": [
      "If you really want to hear about it, the first thing you’ll probably want to know is where I was born, an what my lousy childhood was like, and how my parents were occupied and all before they had me, and all that David Copperfield kind of crap, but I don’t feel like going into it, if you want to know the truth. In the first place, that stuff bores me, and in the second place, my parents would have about two hemorrhages apiece if I told anything pretty personal about them. They’re quite touchy about anything like that, especially my father. They’re nice and all — I’m not saying that — but they’re also touchy as hell. Besides, I’m not going to tell you my whole goddam autobiography or anything. I’ll justT TELL YOL ABOUT THI \n"
     ]
    },
    {
     "name": "stderr",
     "output_type": "stream",
     "text": [
      "100%|███████████████████████████████████████████████████████████████████████████████| 455/455 [00:01<00:00, 299.89it/s]\n"
     ]
    },
    {
     "name": "stdout",
     "output_type": "stream",
     "text": [
      "If you really want to hear about it, the first thing you’ll probably want to know is where I was born, an what my lousy childhood was like, and how my parents were occupied and all before they had me, and all that David Copperfield kind of crap, but I don’t feel like going into it, if you want to know the truth. In the first place, that stuff bores me, and in the second place, my parents would have about two hemorrhages apiece if I told anything pretty personal about them. They’re quite touchy about anything like that, especially my father. They’re nice and all — I’m not saying that — but they’re also touchy as hell. Besides, I’m not going to tell you my whole goddam autobiography or anything. I’ll justT TELL YOL ABOUT THI  \n"
     ]
    },
    {
     "name": "stderr",
     "output_type": "stream",
     "text": [
      "100%|███████████████████████████████████████████████████████████████████████████████| 456/456 [00:01<00:00, 268.69it/s]\n"
     ]
    },
    {
     "name": "stdout",
     "output_type": "stream",
     "text": [
      "If you really want to hear about it, the first thing you’ll probably want to know is where I was born, an what my lousy childhood was like, and how my parents were occupied and all before they had me, and all that David Copperfield kind of crap, but I don’t feel like going into it, if you want to know the truth. In the first place, that stuff bores me, and in the second place, my parents would have about two hemorrhages apiece if I told anything pretty personal about them. They’re quite touchy about anything like that, especially my father. They’re nice and all — I’m not saying that — but they’re also touchy as hell. Besides, I’m not going to tell you my whole goddam autobiography or anything. I’ll justT TELL YOL ABOUT THI  R\n"
     ]
    },
    {
     "name": "stderr",
     "output_type": "stream",
     "text": [
      "100%|███████████████████████████████████████████████████████████████████████████████| 457/457 [00:01<00:00, 280.84it/s]\n"
     ]
    },
    {
     "name": "stdout",
     "output_type": "stream",
     "text": [
      "If you really want to hear about it, the first thing you’ll probably want to know is where I was born, an what my lousy childhood was like, and how my parents were occupied and all before they had me, and all that David Copperfield kind of crap, but I don’t feel like going into it, if you want to know the truth. In the first place, that stuff bores me, and in the second place, my parents would have about two hemorrhages apiece if I told anything pretty personal about them. They’re quite touchy about anything like that, especially my father. They’re nice and all — I’m not saying that — but they’re also touchy as hell. Besides, I’m not going to tell you my whole goddam autobiography or anything. I’ll justT TELL YOL ABOUT THI  RA\n"
     ]
    },
    {
     "name": "stderr",
     "output_type": "stream",
     "text": [
      "100%|███████████████████████████████████████████████████████████████████████████████| 458/458 [00:01<00:00, 294.21it/s]\n"
     ]
    },
    {
     "name": "stdout",
     "output_type": "stream",
     "text": [
      "If you really want to hear about it, the first thing you’ll probably want to know is where I was born, an what my lousy childhood was like, and how my parents were occupied and all before they had me, and all that David Copperfield kind of crap, but I don’t feel like going into it, if you want to know the truth. In the first place, that stuff bores me, and in the second place, my parents would have about two hemorrhages apiece if I told anything pretty personal about them. They’re quite touchy about anything like that, especially my father. They’re nice and all — I’m not saying that — but they’re also touchy as hell. Besides, I’m not going to tell you my whole goddam autobiography or anything. I’ll justT TELL YOL ABOUT THI  RAD\n"
     ]
    },
    {
     "name": "stderr",
     "output_type": "stream",
     "text": [
      "100%|███████████████████████████████████████████████████████████████████████████████| 459/459 [00:01<00:00, 289.04it/s]\n"
     ]
    },
    {
     "name": "stdout",
     "output_type": "stream",
     "text": [
      "If you really want to hear about it, the first thing you’ll probably want to know is where I was born, an what my lousy childhood was like, and how my parents were occupied and all before they had me, and all that David Copperfield kind of crap, but I don’t feel like going into it, if you want to know the truth. In the first place, that stuff bores me, and in the second place, my parents would have about two hemorrhages apiece if I told anything pretty personal about them. They’re quite touchy about anything like that, especially my father. They’re nice and all — I’m not saying that — but they’re also touchy as hell. Besides, I’m not going to tell you my whole goddam autobiography or anything. I’ll justT TELL YOL ABOUT THI  RADM\n"
     ]
    },
    {
     "name": "stderr",
     "output_type": "stream",
     "text": [
      "100%|███████████████████████████████████████████████████████████████████████████████| 460/460 [00:01<00:00, 285.90it/s]\n"
     ]
    },
    {
     "name": "stdout",
     "output_type": "stream",
     "text": [
      "If you really want to hear about it, the first thing you’ll probably want to know is where I was born, an what my lousy childhood was like, and how my parents were occupied and all before they had me, and all that David Copperfield kind of crap, but I don’t feel like going into it, if you want to know the truth. In the first place, that stuff bores me, and in the second place, my parents would have about two hemorrhages apiece if I told anything pretty personal about them. They’re quite touchy about anything like that, especially my father. They’re nice and all — I’m not saying that — but they’re also touchy as hell. Besides, I’m not going to tell you my whole goddam autobiography or anything. I’ll justT TELL YOL ABOUT THI  RADMA\n"
     ]
    },
    {
     "name": "stderr",
     "output_type": "stream",
     "text": [
      "100%|███████████████████████████████████████████████████████████████████████████████| 461/461 [00:01<00:00, 288.63it/s]\n"
     ]
    },
    {
     "name": "stdout",
     "output_type": "stream",
     "text": [
      "If you really want to hear about it, the first thing you’ll probably want to know is where I was born, an what my lousy childhood was like, and how my parents were occupied and all before they had me, and all that David Copperfield kind of crap, but I don’t feel like going into it, if you want to know the truth. In the first place, that stuff bores me, and in the second place, my parents would have about two hemorrhages apiece if I told anything pretty personal about them. They’re quite touchy about anything like that, especially my father. They’re nice and all — I’m not saying that — but they’re also touchy as hell. Besides, I’m not going to tell you my whole goddam autobiography or anything. I’ll justT TELL YOL ABOUT THI  RADMAN\n"
     ]
    },
    {
     "name": "stderr",
     "output_type": "stream",
     "text": [
      "100%|███████████████████████████████████████████████████████████████████████████████| 462/462 [00:01<00:00, 289.50it/s]\n"
     ]
    },
    {
     "name": "stdout",
     "output_type": "stream",
     "text": [
      "If you really want to hear about it, the first thing you’ll probably want to know is where I was born, an what my lousy childhood was like, and how my parents were occupied and all before they had me, and all that David Copperfield kind of crap, but I don’t feel like going into it, if you want to know the truth. In the first place, that stuff bores me, and in the second place, my parents would have about two hemorrhages apiece if I told anything pretty personal about them. They’re quite touchy about anything like that, especially my father. They’re nice and all — I’m not saying that — but they’re also touchy as hell. Besides, I’m not going to tell you my whole goddam autobiography or anything. I’ll justT TELL YOL ABOUT THI  RADMAN \n"
     ]
    },
    {
     "name": "stderr",
     "output_type": "stream",
     "text": [
      "100%|███████████████████████████████████████████████████████████████████████████████| 463/463 [00:01<00:00, 292.60it/s]\n"
     ]
    },
    {
     "name": "stdout",
     "output_type": "stream",
     "text": [
      "If you really want to hear about it, the first thing you’ll probably want to know is where I was born, an what my lousy childhood was like, and how my parents were occupied and all before they had me, and all that David Copperfield kind of crap, but I don’t feel like going into it, if you want to know the truth. In the first place, that stuff bores me, and in the second place, my parents would have about two hemorrhages apiece if I told anything pretty personal about them. They’re quite touchy about anything like that, especially my father. They’re nice and all — I’m not saying that — but they’re also touchy as hell. Besides, I’m not going to tell you my whole goddam autobiography or anything. I’ll justT TELL YOL ABOUT THI  RADMAN S\n"
     ]
    }
   ],
   "source": [
    "# Load your model\n",
    "model = load_model('letter_model_params.pkl')\n",
    "\n",
    "# Your output book (must match training)\n",
    "output_book = [\"A\", \"B\", \"C\", \"D\", \"E\", \"F\", \"G\", \"H\", \"I\", \"J\", \"K\", \"L\", \"M\", \n",
    "               \"N\", \"O\", \"P\", \"Q\", \"R\", \"S\", \"T\", \"U\", \"V\", \"W\", \"X\", \"Y\", \"Z\", \" \"]\n",
    "\n",
    "complete_sentence = \"If you really want to hear about it, the first thing you’ll probably want to know is where I was born, an what my lousy childhood was like, and how my parents were occupied and all before they had me, and all that David Copperfield kind of crap, but I don’t feel like going into it, if you want to know the truth. In the first place, that stuff bores me, and in the second place, my parents would have about two hemorrhages apiece if I told anything pretty personal about them. They’re quite touchy about anything like that, especially my father. They’re nice and all — I’m not saying that — but they’re also touchy as hell. Besides, I’m not going to tell you my whole goddam autobiography or anything. I’ll just\"\n",
    "for nextten in range(30):\n",
    "\n",
    "    X = encode_input(complete_sentence)\n",
    "    \n",
    "    # Example input data (replace with your actual data)\n",
    "    # Should be either:\n",
    "    # - (height, width) shaped array (will be flattened automatically)\n",
    "    # - Already flattened array of length 69250\n",
    "    example_input = X[-1] #np.random.rand(1, 69250)  # Replace with your actual data\n",
    "    \n",
    "    # Make prediction\n",
    "    letter, confidence, all_probs = predict_letter(model, example_input, output_book)\n",
    "    \n",
    "    #print(f\"Predicted letter: {letter} with confidence {confidence:.2%}\")\n",
    "    #print(\"\\nAll probabilities:\")\n",
    "    \n",
    "    for char, prob in sorted(all_probs.items(), key=lambda x: x[1], reverse=True)[:5]:\n",
    "        complete_sentence = complete_sentence + char\n",
    "        #print(f\"{char}: {prob:.2%}\")\n",
    "        break\n",
    "    print(complete_sentence)"
   ]
  },
  {
   "cell_type": "code",
   "execution_count": null,
   "id": "1534aa63-1f6e-4ec7-8d63-5b11e6d66c57",
   "metadata": {},
   "outputs": [],
   "source": []
  }
 ],
 "metadata": {
  "kernelspec": {
   "display_name": "Python 3 (ipykernel)",
   "language": "python",
   "name": "python3"
  },
  "language_info": {
   "codemirror_mode": {
    "name": "ipython",
    "version": 3
   },
   "file_extension": ".py",
   "mimetype": "text/x-python",
   "name": "python",
   "nbconvert_exporter": "python",
   "pygments_lexer": "ipython3",
   "version": "3.12.4"
  }
 },
 "nbformat": 4,
 "nbformat_minor": 5
}
